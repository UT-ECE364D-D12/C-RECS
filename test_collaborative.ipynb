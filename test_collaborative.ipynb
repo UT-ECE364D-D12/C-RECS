{
 "cells": [
  {
   "cell_type": "code",
   "execution_count": 1,
   "metadata": {},
   "outputs": [
    {
     "name": "stderr",
     "output_type": "stream",
     "text": [
      "WARNING: BNB_CUDA_VERSION=118 environment variable detected; loading libbitsandbytes_cuda118.so.\n",
      "This can be used to load a bitsandbytes version that is different from the PyTorch CUDA version.\n",
      "If this was unintended set the BNB_CUDA_VERSION variable to an empty string: export BNB_CUDA_VERSION=\n",
      "If you use the manual override make sure the right libcudart.so is in your LD_LIBRARY_PATH\n",
      "For example by adding the following to your .bashrc: export LD_LIBRARY_PATH=$LD_LIBRARY_PATH:<path_to_cuda_dir/lib64\n",
      "\n",
      "2024-10-26 05:03:35.531053: I external/local_xla/xla/tsl/cuda/cudart_stub.cc:32] Could not find cuda drivers on your machine, GPU will not be used.\n",
      "2024-10-26 05:03:35.535656: E external/local_xla/xla/stream_executor/cuda/cuda_fft.cc:485] Unable to register cuFFT factory: Attempting to register factory for plugin cuFFT when one has already been registered\n",
      "2024-10-26 05:03:35.543007: E external/local_xla/xla/stream_executor/cuda/cuda_dnn.cc:8454] Unable to register cuDNN factory: Attempting to register factory for plugin cuDNN when one has already been registered\n",
      "2024-10-26 05:03:35.545220: E external/local_xla/xla/stream_executor/cuda/cuda_blas.cc:1452] Unable to register cuBLAS factory: Attempting to register factory for plugin cuBLAS when one has already been registered\n",
      "2024-10-26 05:03:35.551023: I tensorflow/core/platform/cpu_feature_guard.cc:210] This TensorFlow binary is optimized to use available CPU instructions in performance-critical operations.\n",
      "To enable the following instructions: AVX2 AVX_VNNI FMA, in other operations, rebuild TensorFlow with the appropriate compiler flags.\n",
      "2024-10-26 05:03:35.875746: W tensorflow/compiler/tf2tensorrt/utils/py_utils.cc:38] TF-TRT Warning: Could not find TensorRT\n"
     ]
    }
   ],
   "source": [
    "import pandas as pd\n",
    "import torch\n",
    "import yaml\n",
    "from torch import cosine_similarity\n",
    "\n",
    "from model.encoder import Encoder\n",
    "from model.recommender import DeepFM\n",
    "from utils.misc import send_to_device"
   ]
  },
  {
   "cell_type": "code",
   "execution_count": 2,
   "metadata": {},
   "outputs": [],
   "source": [
    "movies = pd.read_csv(\"data/ml-20m/movies.csv\")\n",
    "\n",
    "movies = movies[[\"item_id\", \"item_title\"]]\n",
    "\n",
    "num_items = movies[\"item_id\"].nunique()\n",
    "\n",
    "requests = pd.read_csv('data/ml-20m/requests.csv')\n",
    "requests = requests.groupby(\"item_id\").agg({\n",
    "    \"item_title\": \"first\",\n",
    "    \"request\": list,\n",
    "}).reset_index()\n",
    "requests.set_index(\"item_id\", inplace=True, drop=False)"
   ]
  },
  {
   "cell_type": "code",
   "execution_count": null,
   "metadata": {},
   "outputs": [],
   "source": [
    "args = yaml.safe_load(open(\"configs/collaborative.yaml\", \"r\"))\n",
    "args[\"recommender\"][\"weights\"] = \"weights/collaborative/deepfm.pt\"\n",
    "args[\"encoder\"][\"weights\"] = \"weights/collaborative/encoder.pt\"\n",
    "\n",
    "device = \"cuda\" if torch.cuda.is_available() else \"cpu\"\n",
    "\n",
    "encoder = Encoder(**args[\"encoder\"]).to(device)\n",
    "\n",
    "recommender = DeepFM(num_items=num_items, **args[\"recommender\"]).to(device)\n",
    "\n",
    "item_embeddings = recommender.embedding.item_embedding.weight.cpu()"
   ]
  },
  {
   "cell_type": "code",
   "execution_count": null,
   "metadata": {},
   "outputs": [],
   "source": [
    "features = (torch.tensor([num_items, 0]), torch.tensor([5.0, 3.5]))\n",
    "\n",
    "features = send_to_device(features, device)\n",
    "\n",
    "user_ratings = recommender.predict(features).cpu()\n",
    "\n",
    "# Join user_ratings on movies\n",
    "ranked_movies = movies.join(pd.DataFrame(user_ratings * 5, columns=[\"rating\"]))\n",
    "\n",
    "request = \"I want to watch a popular romantic comedy from the 80s\"\n",
    "\n",
    "request_embedding = encoder(request).cpu()\n",
    "\n",
    "similarities = (cosine_similarity(request_embedding, item_embeddings) + 1) / 2\n",
    "\n",
    "rankings = user_ratings * similarities\n",
    "\n",
    "_, indices = torch.topk(rankings, k=10, largest=True)\n",
    "\n",
    "ranked_movies.iloc[indices]"
   ]
  }
 ],
 "metadata": {
  "kernelspec": {
   "display_name": "crecs",
   "language": "python",
   "name": "python3"
  },
  "language_info": {
   "codemirror_mode": {
    "name": "ipython",
    "version": 3
   },
   "file_extension": ".py",
   "mimetype": "text/x-python",
   "name": "python",
   "nbconvert_exporter": "python",
   "pygments_lexer": "ipython3",
   "version": "3.10.0"
  }
 },
 "nbformat": 4,
 "nbformat_minor": 2
}
