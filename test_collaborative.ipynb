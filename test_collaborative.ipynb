{
 "cells": [
  {
   "cell_type": "code",
   "execution_count": 8,
   "metadata": {},
   "outputs": [],
   "source": [
    "import pandas as pd\n",
    "import torch\n",
    "import yaml\n",
    "from torch import cosine_similarity\n",
    "\n",
    "from model.encoder import Encoder\n",
    "from model.recommender import DeepFM\n",
    "from utils.data import get_feature_sizes\n",
    "from utils.misc import cosine_distance"
   ]
  },
  {
   "cell_type": "code",
   "execution_count": 2,
   "metadata": {},
   "outputs": [],
   "source": [
    "movies = pd.read_csv(\"data/ml-20m/movies.csv\", header=0, names=[\"movie_id\", \"movie_title\", \"genres\"])\n",
    "\n",
    "movies = movies[[\"movie_id\", \"movie_title\"]]\n",
    "\n",
    "ratings = pd.read_csv(\"data/ml-20m/ratings.csv\", header=0, names=[\"user_id\", \"movie_id\", \"rating\", \"timestamp\"])\n",
    "ratings = ratings[[\"user_id\", \"movie_id\", \"rating\"]]"
   ]
  },
  {
   "cell_type": "code",
   "execution_count": 3,
   "metadata": {},
   "outputs": [
    {
     "name": "stderr",
     "output_type": "stream",
     "text": [
      "/home/archy1/mambaforge/envs/crecs/lib/python3.10/site-packages/transformers/tokenization_utils_base.py:1601: FutureWarning: `clean_up_tokenization_spaces` was not set. It will be set to `True` by default. This behavior will be depracted in transformers v4.45, and will be then set to `False` by default. For more details check this issue: https://github.com/huggingface/transformers/issues/31884\n",
      "  warnings.warn(\n"
     ]
    },
    {
     "data": {
      "text/plain": [
       "<All keys matched successfully>"
      ]
     },
     "execution_count": 3,
     "metadata": {},
     "output_type": "execute_result"
    }
   ],
   "source": [
    "args = yaml.safe_load(open(\"configs/collaborative.yaml\", \"r\"))\n",
    "\n",
    "device = \"cuda\" if torch.cuda.is_available() else \"cpu\"\n",
    "\n",
    "recommender = DeepFM(feature_dims=get_feature_sizes(ratings), **args[\"recommender\"]).to(device)\n",
    "recommender.load_state_dict(torch.load(\"weights/collaborative/deepfm.pt\", map_location=device))\n",
    "\n",
    "movie_embeddings = recommender.embedding.embedding.weight[recommender.embedding.offsets[1]:].cpu()\n",
    "\n",
    "encoder = Encoder().to(device)\n",
    "\n",
    "encoder.load_state_dict(torch.load(\"weights/collaborative/encoder.pt\", map_location=device))"
   ]
  },
  {
   "cell_type": "code",
   "execution_count": 10,
   "metadata": {},
   "outputs": [
    {
     "data": {
      "text/html": [
       "<div>\n",
       "<style scoped>\n",
       "    .dataframe tbody tr th:only-of-type {\n",
       "        vertical-align: middle;\n",
       "    }\n",
       "\n",
       "    .dataframe tbody tr th {\n",
       "        vertical-align: top;\n",
       "    }\n",
       "\n",
       "    .dataframe thead th {\n",
       "        text-align: right;\n",
       "    }\n",
       "</style>\n",
       "<table border=\"1\" class=\"dataframe\">\n",
       "  <thead>\n",
       "    <tr style=\"text-align: right;\">\n",
       "      <th></th>\n",
       "      <th>movie_id</th>\n",
       "      <th>movie_title</th>\n",
       "    </tr>\n",
       "  </thead>\n",
       "  <tbody>\n",
       "    <tr>\n",
       "      <th>357</th>\n",
       "      <td>380</td>\n",
       "      <td>True Lies (1994)</td>\n",
       "    </tr>\n",
       "    <tr>\n",
       "      <th>1330</th>\n",
       "      <td>1552</td>\n",
       "      <td>Con Air (1997)</td>\n",
       "    </tr>\n",
       "    <tr>\n",
       "      <th>128</th>\n",
       "      <td>145</td>\n",
       "      <td>Bad Boys (1995)</td>\n",
       "    </tr>\n",
       "    <tr>\n",
       "      <th>452</th>\n",
       "      <td>485</td>\n",
       "      <td>Last Action Hero (1993)</td>\n",
       "    </tr>\n",
       "    <tr>\n",
       "      <th>388</th>\n",
       "      <td>420</td>\n",
       "      <td>Beverly Hills Cop III (1994)</td>\n",
       "    </tr>\n",
       "    <tr>\n",
       "      <th>1697</th>\n",
       "      <td>2001</td>\n",
       "      <td>Lethal Weapon 2 (1989)</td>\n",
       "    </tr>\n",
       "    <tr>\n",
       "      <th>1616</th>\n",
       "      <td>1918</td>\n",
       "      <td>Lethal Weapon 4 (1998)</td>\n",
       "    </tr>\n",
       "    <tr>\n",
       "      <th>1189</th>\n",
       "      <td>1370</td>\n",
       "      <td>Die Hard 2 (1990)</td>\n",
       "    </tr>\n",
       "    <tr>\n",
       "      <th>148</th>\n",
       "      <td>165</td>\n",
       "      <td>Die Hard: With a Vengeance (1995)</td>\n",
       "    </tr>\n",
       "    <tr>\n",
       "      <th>146</th>\n",
       "      <td>163</td>\n",
       "      <td>Desperado (1995)</td>\n",
       "    </tr>\n",
       "    <tr>\n",
       "      <th>370</th>\n",
       "      <td>393</td>\n",
       "      <td>Street Fighter (1994)</td>\n",
       "    </tr>\n",
       "    <tr>\n",
       "      <th>5469</th>\n",
       "      <td>6548</td>\n",
       "      <td>Bad Boys II (2003)</td>\n",
       "    </tr>\n",
       "    <tr>\n",
       "      <th>3055</th>\n",
       "      <td>3527</td>\n",
       "      <td>Predator (1987)</td>\n",
       "    </tr>\n",
       "    <tr>\n",
       "      <th>2072</th>\n",
       "      <td>2402</td>\n",
       "      <td>Rambo: First Blood Part II (1985)</td>\n",
       "    </tr>\n",
       "    <tr>\n",
       "      <th>775</th>\n",
       "      <td>886</td>\n",
       "      <td>Bulletproof (1996)</td>\n",
       "    </tr>\n",
       "    <tr>\n",
       "      <th>5708</th>\n",
       "      <td>6874</td>\n",
       "      <td>Kill Bill: Vol. 1 (2003)</td>\n",
       "    </tr>\n",
       "    <tr>\n",
       "      <th>6113</th>\n",
       "      <td>7438</td>\n",
       "      <td>Kill Bill: Vol. 2 (2004)</td>\n",
       "    </tr>\n",
       "    <tr>\n",
       "      <th>103</th>\n",
       "      <td>112</td>\n",
       "      <td>Rumble in the Bronx (Hont faan kui) (1995)</td>\n",
       "    </tr>\n",
       "    <tr>\n",
       "      <th>89</th>\n",
       "      <td>95</td>\n",
       "      <td>Broken Arrow (1996)</td>\n",
       "    </tr>\n",
       "    <tr>\n",
       "      <th>3454</th>\n",
       "      <td>3977</td>\n",
       "      <td>Charlie's Angels (2000)</td>\n",
       "    </tr>\n",
       "  </tbody>\n",
       "</table>\n",
       "</div>"
      ],
      "text/plain": [
       "      movie_id                                 movie_title\n",
       "357        380                            True Lies (1994)\n",
       "1330      1552                              Con Air (1997)\n",
       "128        145                             Bad Boys (1995)\n",
       "452        485                     Last Action Hero (1993)\n",
       "388        420                Beverly Hills Cop III (1994)\n",
       "1697      2001                      Lethal Weapon 2 (1989)\n",
       "1616      1918                      Lethal Weapon 4 (1998)\n",
       "1189      1370                           Die Hard 2 (1990)\n",
       "148        165           Die Hard: With a Vengeance (1995)\n",
       "146        163                            Desperado (1995)\n",
       "370        393                       Street Fighter (1994)\n",
       "5469      6548                          Bad Boys II (2003)\n",
       "3055      3527                             Predator (1987)\n",
       "2072      2402           Rambo: First Blood Part II (1985)\n",
       "775        886                          Bulletproof (1996)\n",
       "5708      6874                    Kill Bill: Vol. 1 (2003)\n",
       "6113      7438                    Kill Bill: Vol. 2 (2004)\n",
       "103        112  Rumble in the Bronx (Hont faan kui) (1995)\n",
       "89          95                         Broken Arrow (1996)\n",
       "3454      3977                     Charlie's Angels (2000)"
      ]
     },
     "execution_count": 10,
     "metadata": {},
     "output_type": "execute_result"
    }
   ],
   "source": [
    "request = \"I want to watch an action movie.\"\n",
    "\n",
    "request_embedding = encoder(request).cpu()\n",
    "\n",
    "similarities = cosine_similarity(request_embedding, movie_embeddings)\n",
    "\n",
    "_, indices = torch.topk(similarities, k=20, largest=True)\n",
    "\n",
    "movies.iloc[indices]"
   ]
  },
  {
   "cell_type": "code",
   "execution_count": 13,
   "metadata": {},
   "outputs": [
    {
     "data": {
      "text/plain": [
       "tensor(0.8778, grad_fn=<MaxBackward1>)"
      ]
     },
     "execution_count": 13,
     "metadata": {},
     "output_type": "execute_result"
    }
   ],
   "source": [
    "similarities.max()"
   ]
  }
 ],
 "metadata": {
  "kernelspec": {
   "display_name": "crecs",
   "language": "python",
   "name": "python3"
  },
  "language_info": {
   "codemirror_mode": {
    "name": "ipython",
    "version": 3
   },
   "file_extension": ".py",
   "mimetype": "text/x-python",
   "name": "python",
   "nbconvert_exporter": "python",
   "pygments_lexer": "ipython3",
   "version": "3.10.0"
  }
 },
 "nbformat": 4,
 "nbformat_minor": 2
}
