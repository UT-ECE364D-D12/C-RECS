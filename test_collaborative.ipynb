{
 "cells": [
  {
   "cell_type": "code",
   "execution_count": null,
   "metadata": {},
   "outputs": [],
   "source": [
    "import pandas as pd\n",
    "import torch\n",
    "import yaml\n",
    "\n",
    "from model.crecs import CRECS\n",
    "from utils.misc import send_to_device"
   ]
  },
  {
   "cell_type": "code",
   "execution_count": null,
   "metadata": {},
   "outputs": [],
   "source": [
    "items = pd.read_csv(\"data/ml-20m/movies.csv\")[[\"item_id\", \"item_title\"]]\n",
    "\n",
    "num_items = items[\"item_id\"].nunique()\n",
    "\n",
    "# Initialize models and load weights\n",
    "args = yaml.safe_load(open(\"configs/collaborative.yaml\", \"r\"))\n",
    "\n",
    "device = \"cuda\" if torch.cuda.is_available() else \"cpu\"\n",
    "\n",
    "args[\"model\"][\"recommender\"][\"num_items\"] = num_items \n",
    "\n",
    "model = CRECS(weights=\"weights/collaborative/crecs.pt\", **args[\"model\"]).to(device)"
   ]
  },
  {
   "cell_type": "code",
   "execution_count": null,
   "metadata": {},
   "outputs": [],
   "source": [
    "features = (torch.tensor([num_items, 0]), torch.tensor([5.0, 3.5]))\n",
    "\n",
    "features = send_to_device(features, device)\n",
    "\n",
    "request = \"I want to watch a popular romantic comedy\"\n",
    "\n",
    "item_ids, item_ratings = send_to_device(model.predict(features, request, k=10), \"cpu\")\n",
    "\n",
    "\n",
    "# Create response message\n",
    "recommended_items = list(items.iloc[item_ids][\"item_title\"])[:5]\n",
    "\n",
    "response_message = f\"Here are some movie recommendations for you: {', '.join(recommended_items)}\""
   ]
  }
 ],
 "metadata": {
  "kernelspec": {
   "display_name": "crecs",
   "language": "python",
   "name": "python3"
  },
  "language_info": {
   "codemirror_mode": {
    "name": "ipython",
    "version": 3
   },
   "file_extension": ".py",
   "mimetype": "text/x-python",
   "name": "python",
   "nbconvert_exporter": "python",
   "pygments_lexer": "ipython3",
   "version": "3.10.0"
  }
 },
 "nbformat": 4,
 "nbformat_minor": 2
}
