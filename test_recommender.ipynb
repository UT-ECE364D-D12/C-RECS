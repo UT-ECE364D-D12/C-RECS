{
 "cells": [
  {
   "cell_type": "code",
   "execution_count": 1,
   "metadata": {},
   "outputs": [
    {
     "name": "stderr",
     "output_type": "stream",
     "text": [
      "/home/tdutton/mambaforge/envs/cers/lib/python3.10/site-packages/tqdm/auto.py:21: TqdmWarning: IProgress not found. Please update jupyter and ipywidgets. See https://ipywidgets.readthedocs.io/en/stable/user_install.html\n",
      "  from .autonotebook import tqdm as notebook_tqdm\n"
     ]
    }
   ],
   "source": [
    "import pandas as pd\n",
    "import torch\n",
    "\n",
    "from utils.misc import cosine_distance\n",
    "\n",
    "from utils.misc import set_random_seed"
   ]
  },
  {
   "cell_type": "code",
   "execution_count": 2,
   "metadata": {},
   "outputs": [],
   "source": [
    "movies = pd.read_csv(\"data/ml-20m/movies.csv\", header=0, names=[\"movie_id\", \"movie_title\", \"genres\"])\n",
    "\n",
    "movies.set_index(\"movie_id\", inplace=True, drop=False)"
   ]
  },
  {
   "cell_type": "code",
   "execution_count": 3,
   "metadata": {},
   "outputs": [],
   "source": [
    "ratings = pd.read_csv(\"data/ml-20m/ratings.csv\", header=0, names=[\"user_id\", \"movie_id\", \"rating\", \"timestamp\"])\n",
    "\n",
    "unique_movies = ratings[\"movie_id\"].unique()\n",
    "movie_id_to_index = {movie_id: index for index, movie_id in enumerate(unique_movies)}"
   ]
  },
  {
   "cell_type": "code",
   "execution_count": 4,
   "metadata": {},
   "outputs": [
    {
     "name": "stderr",
     "output_type": "stream",
     "text": [
      "/tmp/ipykernel_77547/3504585102.py:1: FutureWarning: You are using `torch.load` with `weights_only=False` (the current default value), which uses the default pickle module implicitly. It is possible to construct malicious pickle data which will execute arbitrary code during unpickling (See https://github.com/pytorch/pytorch/blob/main/SECURITY.md#untrusted-models for more details). In a future release, the default value for `weights_only` will be flipped to `True`. This limits the functions that could be executed during unpickling. Arbitrary objects will no longer be allowed to be loaded via this mode unless they are explicitly allowlisted by the user via `torch.serialization.add_safe_globals`. We recommend you start setting `weights_only=True` for any use case where you don't have full control of the loaded file. Please open an issue on GitHub for any issues related to this experimental feature.\n",
      "  state_dict = torch.load(\"weights/recommender/deepfm.pt\", map_location=\"cpu\")\n"
     ]
    }
   ],
   "source": [
    "state_dict = torch.load(\"weights/recommender/deepfm.pt\", map_location=\"cpu\")\n",
    "\n",
    "movie_embeddings = state_dict[\"embedding.embedding.weight\"][2000:]"
   ]
  },
  {
   "cell_type": "code",
   "execution_count": 11,
   "metadata": {},
   "outputs": [
    {
     "name": "stdout",
     "output_type": "stream",
     "text": [
      "Ocean's Twelve (2004)\n"
     ]
    },
    {
     "data": {
      "text/html": [
       "<div>\n",
       "<style scoped>\n",
       "    .dataframe tbody tr th:only-of-type {\n",
       "        vertical-align: middle;\n",
       "    }\n",
       "\n",
       "    .dataframe tbody tr th {\n",
       "        vertical-align: top;\n",
       "    }\n",
       "\n",
       "    .dataframe thead th {\n",
       "        text-align: right;\n",
       "    }\n",
       "</style>\n",
       "<table border=\"1\" class=\"dataframe\">\n",
       "  <thead>\n",
       "    <tr style=\"text-align: right;\">\n",
       "      <th></th>\n",
       "      <th>movie_id</th>\n",
       "      <th>movie_title</th>\n",
       "      <th>genres</th>\n",
       "    </tr>\n",
       "    <tr>\n",
       "      <th>movie_id</th>\n",
       "      <th></th>\n",
       "      <th></th>\n",
       "      <th></th>\n",
       "    </tr>\n",
       "  </thead>\n",
       "  <tbody>\n",
       "    <tr>\n",
       "      <th>8984</th>\n",
       "      <td>8984</td>\n",
       "      <td>Ocean's Twelve (2004)</td>\n",
       "      <td>Action|Comedy|Crime|Thriller</td>\n",
       "    </tr>\n",
       "    <tr>\n",
       "      <th>2408</th>\n",
       "      <td>2408</td>\n",
       "      <td>Cocoon: The Return (1988)</td>\n",
       "      <td>Comedy|Sci-Fi</td>\n",
       "    </tr>\n",
       "    <tr>\n",
       "      <th>1378</th>\n",
       "      <td>1378</td>\n",
       "      <td>Young Guns (1988)</td>\n",
       "      <td>Action|Comedy|Western</td>\n",
       "    </tr>\n",
       "    <tr>\n",
       "      <th>8974</th>\n",
       "      <td>8974</td>\n",
       "      <td>SpongeBob SquarePants Movie, The (2004)</td>\n",
       "      <td>Adventure|Animation|Children|Comedy</td>\n",
       "    </tr>\n",
       "    <tr>\n",
       "      <th>1833</th>\n",
       "      <td>1833</td>\n",
       "      <td>Mercury Rising (1998)</td>\n",
       "      <td>Action|Drama|Thriller</td>\n",
       "    </tr>\n",
       "    <tr>\n",
       "      <th>2496</th>\n",
       "      <td>2496</td>\n",
       "      <td>Blast from the Past (1999)</td>\n",
       "      <td>Comedy|Romance</td>\n",
       "    </tr>\n",
       "    <tr>\n",
       "      <th>906</th>\n",
       "      <td>906</td>\n",
       "      <td>Gaslight (1944)</td>\n",
       "      <td>Drama|Thriller</td>\n",
       "    </tr>\n",
       "    <tr>\n",
       "      <th>456</th>\n",
       "      <td>456</td>\n",
       "      <td>Fresh (1994)</td>\n",
       "      <td>Crime|Drama|Thriller</td>\n",
       "    </tr>\n",
       "    <tr>\n",
       "      <th>46530</th>\n",
       "      <td>46530</td>\n",
       "      <td>Superman Returns (2006)</td>\n",
       "      <td>Action|Adventure|Sci-Fi|IMAX</td>\n",
       "    </tr>\n",
       "    <tr>\n",
       "      <th>44191</th>\n",
       "      <td>44191</td>\n",
       "      <td>V for Vendetta (2006)</td>\n",
       "      <td>Action|Sci-Fi|Thriller|IMAX</td>\n",
       "    </tr>\n",
       "  </tbody>\n",
       "</table>\n",
       "</div>"
      ],
      "text/plain": [
       "          movie_id                              movie_title  \\\n",
       "movie_id                                                      \n",
       "8984          8984                    Ocean's Twelve (2004)   \n",
       "2408          2408                Cocoon: The Return (1988)   \n",
       "1378          1378                        Young Guns (1988)   \n",
       "8974          8974  SpongeBob SquarePants Movie, The (2004)   \n",
       "1833          1833                    Mercury Rising (1998)   \n",
       "2496          2496               Blast from the Past (1999)   \n",
       "906            906                          Gaslight (1944)   \n",
       "456            456                             Fresh (1994)   \n",
       "46530        46530                  Superman Returns (2006)   \n",
       "44191        44191                    V for Vendetta (2006)   \n",
       "\n",
       "                                       genres  \n",
       "movie_id                                       \n",
       "8984             Action|Comedy|Crime|Thriller  \n",
       "2408                            Comedy|Sci-Fi  \n",
       "1378                    Action|Comedy|Western  \n",
       "8974      Adventure|Animation|Children|Comedy  \n",
       "1833                    Action|Drama|Thriller  \n",
       "2496                           Comedy|Romance  \n",
       "906                            Drama|Thriller  \n",
       "456                      Crime|Drama|Thriller  \n",
       "46530            Action|Adventure|Sci-Fi|IMAX  \n",
       "44191             Action|Sci-Fi|Thriller|IMAX  "
      ]
     },
     "execution_count": 11,
     "metadata": {},
     "output_type": "execute_result"
    }
   ],
   "source": [
    "movie_id, movie_title = movies.loc[8984][[\"movie_id\", \"movie_title\"]]\n",
    "\n",
    "print(movie_title)\n",
    "\n",
    "movie_index = movie_id_to_index[movie_id]\n",
    "\n",
    "movie_embedding = movie_embeddings[movie_index]\n",
    "\n",
    "distances = cosine_distance(movie_embedding, movie_embeddings)\n",
    "\n",
    "_, indices = torch.topk(distances, k=10, largest=False)\n",
    "\n",
    "indices = unique_movies[indices]\n",
    "movies.loc[indices]"
   ]
  }
 ],
 "metadata": {
  "kernelspec": {
   "display_name": "cers",
   "language": "python",
   "name": "python3"
  },
  "language_info": {
   "codemirror_mode": {
    "name": "ipython",
    "version": 3
   },
   "file_extension": ".py",
   "mimetype": "text/x-python",
   "name": "python",
   "nbconvert_exporter": "python",
   "pygments_lexer": "ipython3",
   "version": "3.10.0"
  }
 },
 "nbformat": 4,
 "nbformat_minor": 2
}
