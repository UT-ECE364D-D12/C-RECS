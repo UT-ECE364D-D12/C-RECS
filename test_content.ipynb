{
 "cells": [
  {
   "cell_type": "code",
   "execution_count": 5,
   "metadata": {},
   "outputs": [],
   "source": [
    "import numpy as np\n",
    "import pandas as pd\n",
    "import torch\n",
    "from torch.utils.data import DataLoader\n",
    "from tqdm import tqdm\n",
    "\n",
    "from model.encoder import Encoder\n",
    "from utils.data import DescriptionsDataset\n",
    "from utils.misc import cosine_distance"
   ]
  },
  {
   "cell_type": "code",
   "execution_count": 2,
   "metadata": {},
   "outputs": [],
   "source": [
    "movies = pd.read_csv(\"data/ml-20m/movies.csv\", header=0, names=[\"movie_id\", \"movie_title\", \"genres\"])\n",
    "\n",
    "movies = movies[[\"movie_id\", \"movie_title\"]]\n",
    "\n",
    "descriptions = pd.read_csv(\"data/ml-20m/descriptions.csv\")\n",
    "\n",
    "descriptions_dataset = DescriptionsDataset(descriptions)\n",
    "\n",
    "descriptions_loader = DataLoader(descriptions_dataset, batch_size=32, shuffle=False)"
   ]
  },
  {
   "cell_type": "code",
   "execution_count": 3,
   "metadata": {},
   "outputs": [
    {
     "name": "stderr",
     "output_type": "stream",
     "text": [
      "/home/archy1/mambaforge/envs/cers/lib/python3.10/site-packages/transformers/tokenization_utils_base.py:1601: FutureWarning: `clean_up_tokenization_spaces` was not set. It will be set to `True` by default. This behavior will be depracted in transformers v4.45, and will be then set to `False` by default. For more details check this issue: https://github.com/huggingface/transformers/issues/31884\n",
      "  warnings.warn(\n"
     ]
    },
    {
     "data": {
      "text/plain": [
       "<All keys matched successfully>"
      ]
     },
     "execution_count": 3,
     "metadata": {},
     "output_type": "execute_result"
    }
   ],
   "source": [
    "device = \"cuda\" if torch.cuda.is_available() else \"cpu\"\n",
    "\n",
    "encoder = Encoder().to(device)\n",
    "\n",
    "encoder.load_state_dict(torch.load(\"weights/encoder/encoder.pt\", map_location=device))"
   ]
  },
  {
   "cell_type": "code",
   "execution_count": 6,
   "metadata": {},
   "outputs": [
    {
     "name": "stderr",
     "output_type": "stream",
     "text": [
      "100%|██████████| 353/353 [00:38<00:00,  9.11it/s]\n"
     ]
    }
   ],
   "source": [
    "movie_embeddings = []\n",
    "\n",
    "with torch.no_grad():\n",
    "    for movie_ids, descriptions in tqdm(descriptions_loader):\n",
    "        description_embeddings = encoder(descriptions)\n",
    "\n",
    "        movie_embeddings.append(description_embeddings.cpu())\n",
    "\n",
    "movie_embeddings = torch.cat(movie_embeddings)"
   ]
  },
  {
   "cell_type": "code",
   "execution_count": 17,
   "metadata": {},
   "outputs": [
    {
     "data": {
      "text/html": [
       "<div>\n",
       "<style scoped>\n",
       "    .dataframe tbody tr th:only-of-type {\n",
       "        vertical-align: middle;\n",
       "    }\n",
       "\n",
       "    .dataframe tbody tr th {\n",
       "        vertical-align: top;\n",
       "    }\n",
       "\n",
       "    .dataframe thead th {\n",
       "        text-align: right;\n",
       "    }\n",
       "</style>\n",
       "<table border=\"1\" class=\"dataframe\">\n",
       "  <thead>\n",
       "    <tr style=\"text-align: right;\">\n",
       "      <th></th>\n",
       "      <th>movie_id</th>\n",
       "      <th>movie_title</th>\n",
       "    </tr>\n",
       "  </thead>\n",
       "  <tbody>\n",
       "    <tr>\n",
       "      <th>4072</th>\n",
       "      <td>4722</td>\n",
       "      <td>All Over the Guy (2001)</td>\n",
       "    </tr>\n",
       "    <tr>\n",
       "      <th>1969</th>\n",
       "      <td>2292</td>\n",
       "      <td>Overnight Delivery (1998)</td>\n",
       "    </tr>\n",
       "    <tr>\n",
       "      <th>1262</th>\n",
       "      <td>1457</td>\n",
       "      <td>Fools Rush In (1997)</td>\n",
       "    </tr>\n",
       "    <tr>\n",
       "      <th>2094</th>\n",
       "      <td>2424</td>\n",
       "      <td>You've Got Mail (1998)</td>\n",
       "    </tr>\n",
       "    <tr>\n",
       "      <th>4404</th>\n",
       "      <td>5123</td>\n",
       "      <td>Touch of Class, A (1973)</td>\n",
       "    </tr>\n",
       "    <tr>\n",
       "      <th>6340</th>\n",
       "      <td>8024</td>\n",
       "      <td>Thing Called Love, The (1993)</td>\n",
       "    </tr>\n",
       "    <tr>\n",
       "      <th>9861</th>\n",
       "      <td>76147</td>\n",
       "      <td>I Hate Valentine's Day (2009)</td>\n",
       "    </tr>\n",
       "    <tr>\n",
       "      <th>2811</th>\n",
       "      <td>3225</td>\n",
       "      <td>Down to You (2000)</td>\n",
       "    </tr>\n",
       "    <tr>\n",
       "      <th>6009</th>\n",
       "      <td>7270</td>\n",
       "      <td>Sleep with Me (1994)</td>\n",
       "    </tr>\n",
       "    <tr>\n",
       "      <th>10280</th>\n",
       "      <td>86817</td>\n",
       "      <td>Something Borrowed (2011)</td>\n",
       "    </tr>\n",
       "  </tbody>\n",
       "</table>\n",
       "</div>"
      ],
      "text/plain": [
       "       movie_id                    movie_title\n",
       "4072       4722        All Over the Guy (2001)\n",
       "1969       2292      Overnight Delivery (1998)\n",
       "1262       1457           Fools Rush In (1997)\n",
       "2094       2424         You've Got Mail (1998)\n",
       "4404       5123       Touch of Class, A (1973)\n",
       "6340       8024  Thing Called Love, The (1993)\n",
       "9861      76147  I Hate Valentine's Day (2009)\n",
       "2811       3225             Down to You (2000)\n",
       "6009       7270           Sleep with Me (1994)\n",
       "10280     86817      Something Borrowed (2011)"
      ]
     },
     "execution_count": 17,
     "metadata": {},
     "output_type": "execute_result"
    }
   ],
   "source": [
    "request = \"I want to watch a romantic comedy.\"\n",
    "\n",
    "request_embedding = encoder(request).cpu()\n",
    "\n",
    "distances = cosine_distance(request_embedding, movie_embeddings)\n",
    "\n",
    "_, indices = torch.topk(distances, k=10, largest=False)\n",
    "\n",
    "movies.iloc[indices]"
   ]
  }
 ],
 "metadata": {
  "kernelspec": {
   "display_name": "cers",
   "language": "python",
   "name": "python3"
  },
  "language_info": {
   "codemirror_mode": {
    "name": "ipython",
    "version": 3
   },
   "file_extension": ".py",
   "mimetype": "text/x-python",
   "name": "python",
   "nbconvert_exporter": "python",
   "pygments_lexer": "ipython3",
   "version": "3.10.0"
  }
 },
 "nbformat": 4,
 "nbformat_minor": 2
}
