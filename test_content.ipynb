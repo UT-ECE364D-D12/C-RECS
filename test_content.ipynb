{
 "cells": [
  {
   "cell_type": "code",
   "execution_count": null,
   "metadata": {},
   "outputs": [],
   "source": [
    "import numpy as np\n",
    "import pandas as pd\n",
    "import torch\n",
    "from torch.utils.data import DataLoader\n",
    "from tqdm import tqdm\n",
    "\n",
    "from model.encoder import Encoder\n",
    "from utils.data import DescriptionsDataset\n",
    "from utils.misc import pairwise_cosine_distance\n",
    "from utils.data import train_test_split_requests"
   ]
  },
  {
   "cell_type": "code",
   "execution_count": 2,
   "metadata": {},
   "outputs": [],
   "source": [
    "movies = pd.read_csv(\"data/ml-20m/movies.csv\", header=0, names=[\"movie_id\", \"movie_title\", \"genres\"])\n",
    "\n",
    "movies = movies[[\"movie_id\", \"movie_title\"]]\n",
    "\n",
    "descriptions = pd.read_csv(\"data/ml-20m/descriptions.csv\")\n",
    "\n",
    "descriptions_dataset = DescriptionsDataset(descriptions)\n",
    "\n",
    "descriptions_loader = DataLoader(descriptions_dataset, batch_size=32, num_workers=2, shuffle=False)"
   ]
  },
  {
   "cell_type": "code",
   "execution_count": 3,
   "metadata": {},
   "outputs": [],
   "source": [
    "requests = pd.read_csv('data/ml-20m/requests.csv')\n",
    "\n",
    "requests.set_index(\"movie_id\", inplace=True, drop=False)"
   ]
  },
  {
   "cell_type": "code",
   "execution_count": null,
   "metadata": {},
   "outputs": [],
   "source": [
    "device = \"cuda\" if torch.cuda.is_available() else \"cpu\"\n",
    "\n",
    "encoder = Encoder().to(device)\n",
    "\n",
    "encoder.eval()\n",
    "\n",
    "encoder.load_state_dict(torch.load(\"weights/encoder/encoder.pt\", map_location=device))"
   ]
  },
  {
   "cell_type": "code",
   "execution_count": null,
   "metadata": {},
   "outputs": [],
   "source": [
    "movie_embeddings = []\n",
    "\n",
    "with torch.no_grad():\n",
    "    for movie_ids, descriptions in tqdm(descriptions_loader):\n",
    "        description_embeddings = encoder(descriptions)\n",
    "\n",
    "        movie_embeddings.append(description_embeddings.cpu())\n",
    "\n",
    "movie_embeddings = torch.cat(movie_embeddings)"
   ]
  },
  {
   "cell_type": "code",
   "execution_count": 8,
   "metadata": {},
   "outputs": [],
   "source": [
    "num_requests = 256\n",
    "num_movies = len(movie_embeddings)\n",
    "max_rank = 500\n",
    "\n",
    "movie_ids = (requests[\"movie_id\"].to_list())[:num_requests]\n",
    "movie_indices = [np.where(movies[\"movie_id\"] == movie_id)[0][0] for movie_id in movie_ids]\n",
    "sampled_requests = (requests[\"request\"].to_list())[:num_requests]"
   ]
  },
  {
   "cell_type": "code",
   "execution_count": null,
   "metadata": {},
   "outputs": [],
   "source": [
    "request_embeddings = encoder(sampled_requests).cpu()\n",
    "\n",
    "distances = pairwise_cosine_distance(request_embeddings, movie_embeddings)\n",
    "matches = torch.zeros(num_requests, num_movies)\n",
    "matches[torch.arange(num_requests), movie_indices] = 1\n",
    "\n",
    "distances, indices = torch.sort(distances, dim=-1)\n",
    "matches = matches.gather(-1, indices)\n",
    "\n",
    "# Calculate the Average Precision (https://en.wikipedia.org/wiki/Evaluation_measures_(information_retrieval)#Average_precision)\n",
    "cumulative_sum = torch.cumsum(matches, dim=-1)\n",
    "precision = cumulative_sum / torch.arange(1, num_movies + 1).unsqueeze(0)\n",
    "average_precision = (precision * matches).sum(dim=-1) / matches.sum(dim=-1)\n",
    "average_precision = average_precision.mean()\n",
    "\n",
    "# Calculate the Cumulative Matching Characteristics (CMC) curve\n",
    "cumulative_sum[cumulative_sum > 1] = 1\n",
    "cmc_curve = torch.full((max_rank,), num_requests, dtype=torch.float32)\n",
    "cmc_curve[:num_movies] = cumulative_sum[:, :max_rank].sum(dim=0).cpu()\n",
    "cmc_curve = cmc_curve / num_requests\n",
    "\n",
    "# Plot the CMC curve\n",
    "import matplotlib.pyplot as plt\n",
    "\n",
    "plt.plot(range(1, max_rank + 1), cmc_curve)\n",
    "plt.xlabel(\"Rank\")\n",
    "plt.ylabel(\"Cumulative Match Characteristics\")\n",
    "plt.show()\n",
    "\n",
    "print(f\"Average Precision: {average_precision:.4f}\")\n",
    "print(f\"Rank 1: {cmc_curve[0]:.4f}\")\n",
    "print(f\"Rank 5: {cmc_curve[4]:.4f}\")\n",
    "print(f\"Rank 10: {cmc_curve[9]:.4f}\")"
   ]
  }
 ],
 "metadata": {
  "kernelspec": {
   "display_name": "cers",
   "language": "python",
   "name": "python3"
  },
  "language_info": {
   "codemirror_mode": {
    "name": "ipython",
    "version": 3
   },
   "file_extension": ".py",
   "mimetype": "text/x-python",
   "name": "python",
   "nbconvert_exporter": "python",
   "pygments_lexer": "ipython3",
   "version": "3.10.0"
  }
 },
 "nbformat": 4,
 "nbformat_minor": 2
}
