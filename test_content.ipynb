{
 "cells": [
  {
   "cell_type": "code",
   "execution_count": null,
   "metadata": {},
   "outputs": [],
   "source": [
    "import numpy as np\n",
    "import pandas as pd\n",
    "import torch\n",
    "from sklearn.model_selection import train_test_split\n",
    "from torch import nn, optim\n",
    "from torch.nn.utils.clip_grad import clip_grad_norm_\n",
    "from torch.utils.data import DataLoader\n",
    "from tqdm import tqdm\n",
    "\n",
    "import wandb\n",
    "from model.encoder import Encoder, MultiLayerPerceptron\n",
    "from model.recommender import DeepFM\n",
    "from utils.data import ContentDataset, DescriptionsDataset, train_test_split_requests\n",
    "from utils.loss import EncoderCriterion, JointCriterion, RecommenderCriterion\n",
    "from utils.misc import pairwise_cosine_distance\n",
    "from utils.metric import get_reid_metrics"
   ]
  },
  {
   "cell_type": "code",
   "execution_count": 2,
   "metadata": {},
   "outputs": [],
   "source": [
    "movies = pd.read_csv(\"data/ml-20m/movies.csv\", header=0, names=[\"movie_id\", \"movie_title\", \"genres\"])\n",
    "\n",
    "movies = movies[[\"movie_id\", \"movie_title\"]]\n",
    "\n",
    "# Load requests\n",
    "requests = pd.read_csv('data/ml-20m/requests.csv')\n",
    "requests = requests.groupby(\"movie_id\").agg({\n",
    "    \"movie_title\": \"first\",\n",
    "    \"request\": list,\n",
    "}).reset_index()\n",
    "requests.set_index(\"movie_id\", inplace=True, drop=False)\n",
    "\n",
    "# Load descriptions\n",
    "descriptions = pd.read_csv(\"data/ml-20m/descriptions.csv\")\n",
    "descriptions.set_index(\"movie_id\", inplace=True, drop=False)"
   ]
  },
  {
   "cell_type": "code",
   "execution_count": 3,
   "metadata": {},
   "outputs": [],
   "source": [
    "train_size = 0.8\n",
    "batch_size = 32\n",
    "\n",
    "train_requests, test_requests = train_test_split_requests(requests, train_size=train_size)\n",
    "\n",
    "train_dataset = ContentDataset(descriptions, train_requests)\n",
    "test_dataset = ContentDataset(descriptions, test_requests)\n",
    "descriptions_dataset = DescriptionsDataset(descriptions)\n",
    "\n",
    "train_dataloader = DataLoader(train_dataset, batch_size=batch_size, shuffle=True, num_workers=4)\n",
    "test_dataloader = DataLoader(test_dataset, batch_size=batch_size, shuffle=False, num_workers=4)\n",
    "descriptions_dataloader = DataLoader(descriptions_dataset, batch_size=batch_size, shuffle=False, num_workers=4)"
   ]
  },
  {
   "cell_type": "code",
   "execution_count": null,
   "metadata": {},
   "outputs": [],
   "source": [
    "device = \"cuda\" if torch.cuda.is_available() else \"cpu\"\n",
    "\n",
    "encoder = Encoder().to(device)\n",
    "\n",
    "encoder.eval()\n",
    "\n",
    "encoder.load_state_dict(torch.load(\"weights/encoder/encoder.pt\", map_location=device))"
   ]
  },
  {
   "cell_type": "code",
   "execution_count": null,
   "metadata": {},
   "outputs": [],
   "source": [
    "request_embeddings = []\n",
    "request_logits = []\n",
    "request_item_ids = []\n",
    "\n",
    "with torch.no_grad():\n",
    "    for anchor, positive, negative in tqdm(test_dataloader, desc=f\"Validation (Epoch {1})\"):\n",
    "        anchor_requests, anchor_ids = anchor \n",
    "        positive_descriptions, positive_ids = positive\n",
    "        negative_requests, negative_ids = negative \n",
    "\n",
    "        anchor_embeddings = encoder(anchor_requests)\n",
    "\n",
    "        request_embeddings.append(anchor_embeddings.cpu())\n",
    "        request_item_ids.append(anchor_ids)\n",
    "\n",
    "request_embeddings = torch.cat(request_embeddings)\n",
    "request_item_ids = torch.cat(request_item_ids)"
   ]
  },
  {
   "cell_type": "code",
   "execution_count": null,
   "metadata": {},
   "outputs": [],
   "source": [
    "description_embeddings = []\n",
    "description_item_ids = []\n",
    "\n",
    "with torch.no_grad():\n",
    "    for movie_ids, descriptions in tqdm(descriptions_dataloader):\n",
    "        description_embeddings.append(encoder(descriptions).cpu())\n",
    "        description_item_ids.append(movie_ids)\n",
    "\n",
    "description_embeddings = torch.cat(description_embeddings)\n",
    "description_item_ids = torch.cat(description_item_ids)"
   ]
  },
  {
   "cell_type": "code",
   "execution_count": null,
   "metadata": {},
   "outputs": [],
   "source": [
    "get_reid_metrics((request_embeddings, request_item_ids), (description_embeddings, description_item_ids))"
   ]
  }
 ],
 "metadata": {
  "kernelspec": {
   "display_name": "cers",
   "language": "python",
   "name": "python3"
  },
  "language_info": {
   "codemirror_mode": {
    "name": "ipython",
    "version": 3
   },
   "file_extension": ".py",
   "mimetype": "text/x-python",
   "name": "python",
   "nbconvert_exporter": "python",
   "pygments_lexer": "ipython3",
   "version": "3.10.0"
  }
 },
 "nbformat": 4,
 "nbformat_minor": 2
}
