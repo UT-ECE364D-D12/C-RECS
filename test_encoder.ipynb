{
 "cells": [
  {
   "cell_type": "code",
   "execution_count": null,
   "metadata": {},
   "outputs": [],
   "source": [
    "import pandas as pd\n",
    "import torch\n",
    "\n",
    "from model.encoder import Encoder\n",
    "\n",
    "from utils.misc import cosine_distance"
   ]
  },
  {
   "cell_type": "code",
   "execution_count": 2,
   "metadata": {},
   "outputs": [],
   "source": [
    "movies = pd.read_csv(\"data/ml-20m/movies.csv\", header=0, names=[\"movie_id\", \"movie_title\", \"genres\"])\n",
    "\n",
    "movies = movies[[\"movie_id\", \"movie_title\"]]"
   ]
  },
  {
   "cell_type": "code",
   "execution_count": null,
   "metadata": {},
   "outputs": [],
   "source": [
    "device = \"cuda\" if torch.cuda.is_available() else \"cpu\"\n",
    "\n",
    "movie_embeddings = torch.load(\"weights/recommender/deepfm.pt\", map_location=\"cpu\")[\"embedding.embedding.weight\"][943:]\n",
    "\n",
    "encoder = Encoder().to(device)\n",
    "\n",
    "encoder.load_state_dict(torch.load(\"weights/encoder/encoder.pt\", map_location=device))"
   ]
  },
  {
   "cell_type": "code",
   "execution_count": null,
   "metadata": {},
   "outputs": [],
   "source": [
    "request = \"I want to watch a romantic comedy.\"\n",
    "\n",
    "request_embedding = encoder(request).cpu()\n",
    "\n",
    "distances = cosine_distance(request_embedding, movie_embeddings)\n",
    "\n",
    "_, indices = torch.topk(distances, k=10, largest=False)\n",
    "\n",
    "movies.iloc[indices]"
   ]
  }
 ],
 "metadata": {
  "kernelspec": {
   "display_name": "cers",
   "language": "python",
   "name": "python3"
  },
  "language_info": {
   "codemirror_mode": {
    "name": "ipython",
    "version": 3
   },
   "file_extension": ".py",
   "mimetype": "text/x-python",
   "name": "python",
   "nbconvert_exporter": "python",
   "pygments_lexer": "ipython3",
   "version": "3.10.0"
  }
 },
 "nbformat": 4,
 "nbformat_minor": 2
}
